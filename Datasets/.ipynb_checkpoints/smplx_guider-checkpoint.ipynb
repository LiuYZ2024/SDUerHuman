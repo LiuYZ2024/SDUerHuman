{
 "cells": [
  {
   "cell_type": "code",
   "execution_count": null,
   "id": "769d85d8-dcd8-4d50-ab00-defaca6022a8",
   "metadata": {},
   "outputs": [],
   "source": [
    "import os.path as osp\n",
    "import argparse\n",
    "import numpy as np\n",
    "import torch\n",
    "import smplx"
   ]
  },
  {
   "cell_type": "code",
   "execution_count": null,
   "id": "b514571d-f9ea-4aad-81de-2c6ad7b79202",
   "metadata": {},
   "outputs": [],
   "source": []
  },
  {
   "cell_type": "code",
   "execution_count": null,
   "id": "acef4a7c-7ec5-4386-906e-06c49ae83bd5",
   "metadata": {},
   "outputs": [],
   "source": []
  }
 ],
 "metadata": {
  "kernelspec": {
   "display_name": "smplx(conda)",
   "language": "python",
   "name": "smplx"
  },
  "language_info": {
   "codemirror_mode": {
    "name": "ipython",
    "version": 3
   },
   "file_extension": ".py",
   "mimetype": "text/x-python",
   "name": "python",
   "nbconvert_exporter": "python",
   "pygments_lexer": "ipython3",
   "version": "3.10.18"
  }
 },
 "nbformat": 4,
 "nbformat_minor": 5
}
