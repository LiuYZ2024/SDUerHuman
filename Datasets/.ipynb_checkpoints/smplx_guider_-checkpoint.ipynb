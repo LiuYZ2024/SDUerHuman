{
 "cells": [
  {
   "cell_type": "markdown",
   "id": "8453aaa0",
   "metadata": {},
   "source": [
    "# SMPL-X 使用向导\n",
    "\n",
    "这个 Notebook 将逐步演示如何使用 SMPL-X 模型：\n",
    "1. 加载模型\n",
    "2. 查看默认顶点和关节\n",
    "3. 控制身体形状和表情\n",
    "4. 可视化\n",
    "5. 高级控制手和脸部关节"
   ]
  },
  {
   "cell_type": "code",
   "execution_count": null,
   "id": "f8382b96",
   "metadata": {},
   "outputs": [],
   "source": [
    "# 1️⃣ 导入必要库\n",
    "import torch\n",
    "import smplx\n",
    "import numpy as np\n",
    "\n",
    "# 可选：可视化库\n",
    "import matplotlib.pyplot as plt\n",
    "from mpl_toolkits.mplot3d.art3d import Poly3DCollection"
   ]
  },
  {
   "cell_type": "markdown",
   "id": "bc67d2b1",
   "metadata": {},
   "source": [
    "## 2️⃣ 加载 SMPL-X 模型\n",
    "使用默认 neutral 模型"
   ]
  },
  {
   "cell_type": "code",
   "execution_count": null,
   "id": "bc4feb5d",
   "metadata": {},
   "outputs": [],
   "source": [
    "# 设置模型路径\n",
    "model_folder = \"models\"  # 相对路径，根据你的目录修改\n",
    "\n",
    "# 创建模型\n",
    "model = smplx.create(model_folder,\n",
    "                     model_type='smplx',\n",
    "                     gender='neutral',\n",
    "                     ext='npz')\n",
    "\n",
    "print(model)"
   ]
  },
  {
   "cell_type": "markdown",
   "id": "eb2dd479",
   "metadata": {},
   "source": [
    "## 3️⃣ 查看默认顶点和关节"
   ]
  },
  {
   "cell_type": "code",
   "execution_count": null,
   "id": "9eb67d64",
   "metadata": {},
   "outputs": [],
   "source": [
    "# 默认 forward，使用模型内部的 shape 和 pose\n",
    "output = model()\n",
    "\n",
    "vertices = output.vertices.detach().cpu().numpy()\n",
    "joints = output.joints.detach().cpu().numpy()\n",
    "\n",
    "print('Vertices shape:', vertices.shape)\n",
    "print('Joints shape:', joints.shape)"
   ]
  },
  {
   "cell_type": "markdown",
   "id": "250ef252",
   "metadata": {},
   "source": [
    "## 4️⃣ 可视化模型 (Matplotlib)"
   ]
  },
  {
   "cell_type": "code",
   "execution_count": null,
   "id": "53a37b8f",
   "metadata": {},
   "outputs": [],
   "source": [
    "fig = plt.figure(figsize=(8,8))\n",
    "ax = fig.add_subplot(111, projection='3d')\n",
    "\n",
    "mesh = Poly3DCollection(vertices[model.faces], alpha=0.1)\n",
    "mesh.set_facecolor((1.0, 1.0, 0.9))\n",
    "mesh.set_edgecolor((0,0,0))\n",
    "ax.add_collection3d(mesh)\n",
    "\n",
    "# 绘制关节\n",
    "ax.scatter(joints[:,0], joints[:,1], joints[:,2], color='r')\n",
    "\n",
    "ax.set_xlabel('X')\n",
    "ax.set_ylabel('Y')\n",
    "ax.set_zlabel('Z')\n",
    "ax.set_xlim([-1,1])\n",
    "ax.set_ylim([-1,1])\n",
    "ax.set_zlim([-1,1])\n",
    "plt.show()"
   ]
  },
  {
   "cell_type": "markdown",
   "id": "d0f68917",
   "metadata": {},
   "source": [
    "## 5️⃣ 改变身体形状和表情"
   ]
  },
  {
   "cell_type": "code",
   "execution_count": null,
   "id": "f427a0fc",
   "metadata": {},
   "outputs": [],
   "source": [
    "# 随机生成 shape 和 expression\n",
    "betas = torch.randn([1, model.num_betas])\n",
    "expression = torch.randn([1, model.num_expression_coeffs])\n",
    "\n",
    "output2 = model(betas=betas, expression=expression)\n",
    "vertices2 = output2.vertices.detach().cpu().numpy()\n",
    "joints2 = output2.joints.detach().cpu().numpy()\n",
    "\n",
    "print('Modified Vertices shape:', vertices2.shape)\n",
    "print('Modified Joints shape:', joints2.shape)"
   ]
  },
  {
   "cell_type": "markdown",
   "id": "1ce080e9",
   "metadata": {},
   "source": [
    "## 6️⃣ 高级控制：手和脸部姿态"
   ]
  },
  {
   "cell_type": "code",
   "execution_count": null,
   "id": "f261a3cf",
   "metadata": {},
   "outputs": [],
   "source": [
    "# 下颌、左右眼姿态初始化为零\n",
    "jaw_pose = torch.zeros([1,3])\n",
    "leye_pose = torch.zeros([1,3])\n",
    "reye_pose = torch.zeros([1,3])\n",
    "\n",
    "output3 = model(betas=betas, expression=expression,\n",
    "                jaw_pose=jaw_pose, leye_pose=leye_pose, reye_pose=reye_pose)\n",
    "\n",
    "vertices3 = output3.vertices.detach().cpu().numpy()\n",
    "joints3 = output3.joints.detach().cpu().numpy()\n",
    "\n",
    "print('Advanced control Vertices shape:', vertices3.shape)\n",
    "print('Advanced control Joints shape:', joints3.shape)"
   ]
  }
 ],
 "metadata": {
  "kernelspec": {
   "display_name": "Python 3 (smplx)",
   "language": "python",
   "name": "python3"
  },
  "language_info": {
   "name": "python",
   "version": "3.10"
  }
 },
 "nbformat": 4,
 "nbformat_minor": 5
}
